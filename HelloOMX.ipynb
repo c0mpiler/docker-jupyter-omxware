{
 "cells": [
  {
   "cell_type": "code",
   "execution_count": 5,
   "metadata": {},
   "outputs": [],
   "source": [
    "from omxware import omxware as omxware\n",
    "#token = omxware.getToken('<user>', '<password>')\n",
    "#print(token)\n",
    "omx = omxware.omxware('5p55ETCEV/M3oRlNTwdFtrzIf+MgqASCRzRGnY451CzPEUzXUW/JgTUkRHg7tv53mTAALC52AXSaR4fbxYjxl6k9ZAf52AnJg3RwhUD01hE=')"
   ]
  },
  {
   "cell_type": "code",
   "execution_count": 9,
   "metadata": {},
   "outputs": [
    {
     "name": "stdout",
     "output_type": "stream",
     "text": [
      "{ 'type': 'genus', 'name': 'abiotrophia'}\n",
      "{ 'type': 'genus', 'name': 'acetoanaerobium'}\n",
      "{ 'type': 'genus', 'name': 'acetobacter'}\n",
      "{ 'type': 'genus', 'name': 'acetomicrobium'}\n",
      "{ 'type': 'genus', 'name': 'acholeplasma'}\n",
      "{ 'type': 'genus', 'name': 'achromobacter'}\n",
      "{ 'type': 'genus', 'name': 'acidiphilium'}\n",
      "{ 'type': 'genus', 'name': 'acidipropionibacterium'}\n",
      "{ 'type': 'genus', 'name': 'acidithiobacillus'}\n",
      "{ 'type': 'genus', 'name': 'acinetobacter'}\n"
     ]
    }
   ],
   "source": [
    "all_genera = omx.all_genera(page_size=1000, page_number=1, fromCache=True, output='dict')\n",
    "\n",
    "#print out 10 genera to verify return value, a list of Genus objects\n",
    "for i in range(10):\n",
    "    print(all_genera[i])"
   ]
  },
  {
   "cell_type": "code",
   "execution_count": 15,
   "metadata": {},
   "outputs": [
    {
     "data": {
      "text/html": [
       "<div>\n",
       "<style scoped>\n",
       "    .dataframe tbody tr th:only-of-type {\n",
       "        vertical-align: middle;\n",
       "    }\n",
       "\n",
       "    .dataframe tbody tr th {\n",
       "        vertical-align: top;\n",
       "    }\n",
       "\n",
       "    .dataframe thead th {\n",
       "        text-align: right;\n",
       "    }\n",
       "</style>\n",
       "<table border=\"1\" class=\"dataframe\">\n",
       "  <thead>\n",
       "    <tr style=\"text-align: right;\">\n",
       "      <th></th>\n",
       "      <th>GENERA</th>\n",
       "      <th>GENE_FULLNAME</th>\n",
       "      <th>GENE_UID_KEY</th>\n",
       "    </tr>\n",
       "  </thead>\n",
       "  <tbody>\n",
       "    <tr>\n",
       "      <th>0</th>\n",
       "      <td>campylobacter</td>\n",
       "      <td>CRISPR-associated endonuclease Cas1</td>\n",
       "      <td>00e9c3ca2c7a5c0123db3005494fd6ab</td>\n",
       "    </tr>\n",
       "    <tr>\n",
       "      <th>1</th>\n",
       "      <td>legionella</td>\n",
       "      <td>CRISPR-associated endonuclease Cas9</td>\n",
       "      <td>014a64e2e8698161bb1bc215034dd854</td>\n",
       "    </tr>\n",
       "    <tr>\n",
       "      <th>2</th>\n",
       "      <td>streptomyces</td>\n",
       "      <td>CRISPR-associated protein CasA/Cse1</td>\n",
       "      <td>0179118e2e6cee7f94e0db4c98220e6e</td>\n",
       "    </tr>\n",
       "    <tr>\n",
       "      <th>3</th>\n",
       "      <td>escherichia</td>\n",
       "      <td>protein involved in CRISPR R-loop formation an...</td>\n",
       "      <td>019eb794bde2419a91c5d6fdde3de8f4</td>\n",
       "    </tr>\n",
       "    <tr>\n",
       "      <th>4</th>\n",
       "      <td>campylobacter</td>\n",
       "      <td>CRISPR-associated endonuclease Cas9</td>\n",
       "      <td>022150d915458f380804e5254d2d2b19</td>\n",
       "    </tr>\n",
       "  </tbody>\n",
       "</table>\n",
       "</div>"
      ],
      "text/plain": [
       "          GENERA                                      GENE_FULLNAME  \\\n",
       "0  campylobacter                CRISPR-associated endonuclease Cas1   \n",
       "1     legionella                CRISPR-associated endonuclease Cas9   \n",
       "2   streptomyces                CRISPR-associated protein CasA/Cse1   \n",
       "3    escherichia  protein involved in CRISPR R-loop formation an...   \n",
       "4  campylobacter                CRISPR-associated endonuclease Cas9   \n",
       "\n",
       "                       GENE_UID_KEY  \n",
       "0  00e9c3ca2c7a5c0123db3005494fd6ab  \n",
       "1  014a64e2e8698161bb1bc215034dd854  \n",
       "2  0179118e2e6cee7f94e0db4c98220e6e  \n",
       "3  019eb794bde2419a91c5d6fdde3de8f4  \n",
       "4  022150d915458f380804e5254d2d2b19  "
      ]
     },
     "metadata": {},
     "output_type": "display_data"
    }
   ],
   "source": [
    "# OMXWare - Get first 500 Genes with given `keyword (s)` in the name\n",
    "genes = omx.genes_by_name('CONTAINS '+'crispr' , page_size=500, output='dataframe')\n",
    "\n",
    "# Converting to a Spark DataFrame to explore the result\n",
    "df = genes.drop(columns=['GENOME_COUNT', 'GENUS_COUNT'])\n",
    "\n",
    "display(df[:5])"
   ]
  }
 ],
 "metadata": {
  "kernelspec": {
   "display_name": "Python 3",
   "language": "python",
   "name": "python3"
  },
  "language_info": {
   "codemirror_mode": {
    "name": "ipython",
    "version": 3
   },
   "file_extension": ".py",
   "mimetype": "text/x-python",
   "name": "python",
   "nbconvert_exporter": "python",
   "pygments_lexer": "ipython3",
   "version": "3.6.6"
  }
 },
 "nbformat": 4,
 "nbformat_minor": 2
}
